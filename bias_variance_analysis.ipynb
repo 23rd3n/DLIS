{
 "cells": [
  {
   "cell_type": "code",
   "execution_count": null,
   "metadata": {},
   "outputs": [],
   "source": [
    "import numpy as np\n",
    "import matplotlib.pyplot as plt\n",
    "\n",
    "def GaussKernel(size, std):    \n",
    "    x = np.arange(-(size//2), size//2+1)\n",
    "    kernel = np.exp(-x**2 / (2*std**2))\n",
    "    kernel = kernel / np.sum(kernel)\n",
    "    return kernel\n",
    "\n",
    "def GaussNoise(n, mean, std):\n",
    "      return np.random.normal(loc=mean, scale=std, size=n)\n",
    "\n",
    "def A(size,std):\n",
    "    A = np.zeros((size, size))\n",
    "    kernel = GaussKernel(size, std)\n",
    "    for i in range(size):\n",
    "        A[i, :] = np.roll(kernel, i - size//2)\n",
    "    return A"
   ]
  },
  {
   "cell_type": "code",
   "execution_count": null,
   "metadata": {},
   "outputs": [],
   "source": [
    "n = 101\n",
    "kernel_std = 2\n",
    "noise_std = 0.45\n",
    "noise_mean = 0\n",
    "granularity = 1000\n",
    "\n",
    "kernel = GaussKernel(n, kernel_std)\n",
    "\n",
    "x_star = np.random.random((n, 1))\n",
    "e = GaussNoise(n,noise_mean,noise_std)\n",
    "y = A(n,kernel_std) @ x_star + e #noisy observation of x*\n",
    "\n",
    "U, S, V = np.linalg.svd(A(n,kernel_std))"
   ]
  },
  {
   "cell_type": "code",
   "execution_count": null,
   "metadata": {},
   "outputs": [],
   "source": [
    "L = np.linspace(10^-7,10^2,granularity)\n",
    "bias = np.zeros(granularity)\n",
    "var = np.zeros(granularity)\n",
    "mse = np.zeros(granularity)\n",
    "\n",
    "for j in range(len(L)):\n",
    "    for i in range(n):\n",
    "        Si = S[i]\n",
    "        Vi = V[i]\n",
    "        lamda = L[j]\n",
    "\n",
    "        bias[j] += ((1-(Si*Si / (Si*Si + lamda)))**2 )* ((x_star.T @ Vi)**2)\n",
    "        var[j] += (noise_std**2)*(Si/(Si*Si+lamda))**2\n",
    "        \n",
    "mse = bias + var"
   ]
  },
  {
   "cell_type": "code",
   "execution_count": null,
   "metadata": {},
   "outputs": [],
   "source": [
    "## PLOTTING ##\n",
    "fig, axs = plt.subplots(1, 3, figsize=(12, 4))\n",
    "axs[0].plot(kernel)\n",
    "axs[0].set_title('Gaussian Kernel')\n",
    "axs[1].semilogy(S)\n",
    "axs[1].set_title('Singular values of A')\n",
    "axs[2].loglog(L, bias, label='Bias')\n",
    "axs[2].loglog(L, var, label='Variance')\n",
    "axs[2].loglog(L, mse, label='MSE')\n",
    "axs[2].set_title('Bias-Variance Tradeoff')\n",
    "axs[2].set_xlabel('Lambda')\n",
    "axs[2].legend()\n",
    "plt.show()"
   ]
  }
 ],
 "metadata": {
  "language_info": {
   "name": "python"
  }
 },
 "nbformat": 4,
 "nbformat_minor": 2
}
