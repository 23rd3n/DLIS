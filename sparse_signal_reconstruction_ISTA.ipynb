{
 "cells": [
  {
   "cell_type": "markdown",
   "id": "0521d832",
   "metadata": {},
   "source": [
    "### ISTA can effectively reconstruct sparse signal from noisy measurements, and converges realtively quick"
   ]
  },
  {
   "cell_type": "code",
   "execution_count": 1,
   "id": "7a34ef56",
   "metadata": {},
   "outputs": [],
   "source": [
    "import numpy as np\n",
    "import matplotlib.pyplot as plt\n",
    "from tqdm import tqdm"
   ]
  },
  {
   "cell_type": "markdown",
   "id": "6ed7c92d",
   "metadata": {},
   "source": [
    "### Sparse signal generation"
   ]
  },
  {
   "cell_type": "code",
   "execution_count": 2,
   "id": "71cd1ee9",
   "metadata": {},
   "outputs": [],
   "source": [
    "# A,x: gaussian mean 0, variance 1\n",
    "A=np.random.randn(2000,1000) \n",
    "x=np.random.randn(1000,1) \n",
    "\n",
    "#sparsify x\n",
    "zero_indices = np.random.choice(np.arange(1000),replace=False,size=int(900)) #900 random indices\n",
    "x[zero_indices]=0 #x is 100-sparse\n",
    "\n",
    "# e: gaussian mean 0, variance 0.1\n",
    "e=np.random.normal(0, np.sqrt(0.1) , size=(2000,1))\n",
    "\n",
    "y= A@x + e"
   ]
  },
  {
   "cell_type": "markdown",
   "id": "0fc0a3f9",
   "metadata": {},
   "source": [
    "### τ_λ(x) = sign(x) * max(|x| - λ, 0), soft thresholding operator, used for sparse signal reconstruction\n",
    "--- \n",
    "* If |x| ≤ λ: Output is 0\n",
    "* If x > λ: Output is x - λ\n",
    "* If x < -λ: Output is x + λ\n",
    "\n",
    "---\n",
    "* Shrinks values toward zero by λ amount\n",
    "* Sets values with magnitude less than λ to exactly zero\n",
    "* Preserves the sign of the input\n",
    "\n",
    "---\n",
    "* It promotes sparsity by setting small coefficients to zero\n",
    "* It's a key step in solving l1-regularized optimization problems\n",
    "* In ISTA, it helps find sparse solutions by iteratively applying soft-thresholding\n",
    "\n",
    "---"
   ]
  },
  {
   "cell_type": "code",
   "execution_count": 4,
   "id": "69563a79",
   "metadata": {},
   "outputs": [],
   "source": [
    "def g(x,lamda):\n",
    "    return 0.5*np.linalg.norm(A@x-y)**2+lamda*np.linalg.norm(x,1)\n",
    "\n",
    "#derivative of function f\n",
    "def delta_f(x):\n",
    "    return A.T@(A@x-y)\n",
    "\n",
    "#Soft Thresholding Operator\n",
    "def STO(x,lamda,alpha):\n",
    "    c=lamda*alpha\n",
    "    x[(x>=-c)&(x<=c)]=0\n",
    "    x[x<-c]+=c\n",
    "    x[x>c]-=c\n",
    "    return x"
   ]
  },
  {
   "cell_type": "markdown",
   "id": "302d060e",
   "metadata": {},
   "source": [
    "### ITERATIVE SOFT-THRESHOLDING ALGORITHM"
   ]
  },
  {
   "cell_type": "code",
   "execution_count": 10,
   "id": "4fdeb15a",
   "metadata": {},
   "outputs": [
    {
     "name": "stderr",
     "output_type": "stream",
     "text": [
      "100%|██████████| 100/100 [00:00<00:00, 274.08it/s]"
     ]
    },
    {
     "name": "stdout",
     "output_type": "stream",
     "text": [
      "The obtained solution is 717-sparse\n"
     ]
    },
    {
     "name": "stderr",
     "output_type": "stream",
     "text": [
      "\n"
     ]
    }
   ],
   "source": [
    "max_iterations=100\n",
    "alpha=0.0001 #step size\n",
    "lamda=5     #lambda\n",
    "g_k=[]\n",
    "\n",
    "#initialize x: x_0=0\n",
    "x_k=np.zeros((1000,1))\n",
    "\n",
    "for _ in tqdm(range(max_iterations)):\n",
    "    x_k-=alpha*delta_f(x_k) #step update for f(x)\n",
    "    x_k=STO(x_k,lamda,alpha) #soft thresholding\n",
    "    \n",
    "    g_k.append(g(x_k,lamda))\n",
    "\n",
    "print('The obtained solution is '+str(len(x_k[x_k!=0]))+'-sparse')  "
   ]
  },
  {
   "cell_type": "code",
   "execution_count": 11,
   "id": "57087ba3",
   "metadata": {},
   "outputs": [
    {
     "data": {
      "text/plain": [
       "[<matplotlib.lines.Line2D at 0x1b8ec8ea590>]"
      ]
     },
     "execution_count": 11,
     "metadata": {},
     "output_type": "execute_result"
    },
    {
     "data": {
      "image/png": "[encoded data removed]",
      "text/plain": [
       "<Figure size 640x480 with 1 Axes>"
      ]
     },
     "metadata": {},
     "output_type": "display_data"
    }
   ],
   "source": [
    "plt.xlabel('k')\n",
    "plt.ylabel('$g(x^k) - g(x^*)$')\n",
    "plt.plot(g_k-g_k[-1])"
   ]
  },
  {
   "cell_type": "code",
   "execution_count": 9,
   "id": "a643b91c",
   "metadata": {},
   "outputs": [
    {
     "name": "stdout",
     "output_type": "stream",
     "text": [
      "MSE: 0.0007910255320821668\n"
     ]
    }
   ],
   "source": [
    "print('MSE:', np.linalg.norm(x_k-x)**2/np.linalg.norm(x)**2)"
   ]
  },
  {
   "cell_type": "code",
   "execution_count": 12,
   "id": "505f2dc3",
   "metadata": {},
   "outputs": [
    {
     "name": "stderr",
     "output_type": "stream",
     "text": [
      "100%|██████████| 11/11 [00:18<00:00,  1.69s/it]\n"
     ]
    }
   ],
   "source": [
    "# A,x: gaussian mean 0, variance 1\n",
    "A=np.random.randn(500,2000)\n",
    "x=np.random.randn(2000,1) \n",
    "\n",
    "#Range of k and lambda values\n",
    "k_iterations=np.arange(0,501,50) \n",
    "k_iterations[0]=1\n",
    "lambda_iterations= np.geomspace(0.001, 1000, 20) #logarithmic scale\n",
    "\n",
    "max_iterations=100\n",
    "alpha=0.0001 #step size\n",
    "mse=[]\n",
    "\n",
    "\n",
    "for k in tqdm(k_iterations):\n",
    "    x_star=np.copy(x)\n",
    "    zero_indices = np.random.choice(np.arange(2000),replace=False,size=int(2000-k)) #2000-k random indices\n",
    "    x_star[zero_indices]=0 #x is k-sparse\n",
    "    y= A@x_star\n",
    "    \n",
    "    temp_mse=[]\n",
    "    for lamda in lambda_iterations:\n",
    "        \n",
    "        x_k=np.zeros((2000,1)) #initialize x: x_0=0\n",
    "        #ISTA\n",
    "        for _ in range(max_iterations):\n",
    "            x_k-=alpha*delta_f(x_k) #step update for f(x)\n",
    "            x_k=STO(x_k,lamda,alpha) #soft thresholding\n",
    "\n",
    "        temp_mse.append(np.linalg.norm(x_k-x_star)**2/np.linalg.norm(x_star)**2) \n",
    "    \n",
    "    #store lowest error\n",
    "    mse.append(np.min(temp_mse))\n",
    "        "
   ]
  },
  {
   "cell_type": "code",
   "execution_count": 13,
   "id": "e722c49c",
   "metadata": {},
   "outputs": [
    {
     "data": {
      "text/plain": [
       "[<matplotlib.lines.Line2D at 0x1b8f4735490>]"
      ]
     },
     "execution_count": 13,
     "metadata": {},
     "output_type": "execute_result"
    },
    {
     "data": {
      "image/png": "[encoded data removed]",
      "text/plain": [
       "<Figure size 640x480 with 1 Axes>"
      ]
     },
     "metadata": {},
     "output_type": "display_data"
    }
   ],
   "source": [
    "plt.xlabel('k')\n",
    "plt.ylabel('MSE')\n",
    "k=k_iterations\n",
    "plt.plot(k,mse,marker=\"o\")"
   ]
  }
 ],
 "metadata": {
  "kernelspec": {
   "display_name": "Python 3",
   "language": "python",
   "name": "python3"
  },
  "language_info": {
   "codemirror_mode": {
    "name": "ipython",
    "version": 3
   },
   "file_extension": ".py",
   "mimetype": "text/x-python",
   "name": "python",
   "nbconvert_exporter": "python",
   "pygments_lexer": "ipython3",
   "version": "3.11.3"
  }
 },
 "nbformat": 4,
 "nbformat_minor": 5
}
