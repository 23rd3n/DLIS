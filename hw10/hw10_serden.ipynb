{
 "cells": [
  {
   "cell_type": "code",
   "execution_count": 1,
   "metadata": {},
   "outputs": [],
   "source": [
    "import numpy as np\n",
    "import matplotlib.pyplot as plt\n",
    "from tqdm import tqdm"
   ]
  },
  {
   "cell_type": "markdown",
   "metadata": {},
   "source": [
    "### Part (b), investigation of reconstruction error with analytically obtained l2-norm minimizer, and we know the optimal solution from the solution of homework3"
   ]
  },
  {
   "cell_type": "markdown",
   "metadata": {},
   "source": [
    "$$\n",
    "f(\\mathbf{x})=\\|\\mathbf{A} \\mathbf{x}-\\mathbf{y}\\|_2^2+\\lambda\\|\\mathbf{x}\\|_2^2,\n",
    "$$\n",
    "$$\n",
    "\\nabla f(\\mathbf{x})=2\\left(\\mathbf{A}^T(\\mathbf{A x}-\\mathbf{y})+\\lambda \\mathbf{x}\\right)\n",
    "$$\n",
    "$$\n",
    "\\nabla f(\\mathbf{x})=\\mathbf{0} \\Leftrightarrow\\left(\\mathbf{A}^T \\mathbf{A}+\\lambda \\mathbf{I}\\right) \\mathbf{x}=\\mathbf{A}^T \\mathbf{y} .\n",
    "$$\n",
    "$$\n",
    "\\begin{aligned}\n",
    "\\left(\\mathbf{A}^T \\mathbf{A}-\\lambda \\mathbf{I}\\right) & =\\mathbf{V} \\boldsymbol{\\Sigma}^2 \\mathbf{V}^T+\\lambda \\mathbf{I}, \\\\\n",
    "& \\stackrel{*}{=} \\mathbf{V} \\boldsymbol{\\Sigma}^2 \\mathbf{V}^T+\\lambda \\mathbf{V} \\mathbf{V}^T, \\\\\n",
    "& =\\mathbf{V}\\left(\\boldsymbol{\\Sigma}^2+\\lambda \\mathbf{I}\\right) \\mathbf{V}^T,\n",
    "\\end{aligned}\n",
    "$$\n",
    "$$\n",
    "\\nabla f(\\mathbf{x})=\\mathbf{0} \\Leftrightarrow\\left(\\mathbf{V}\\left(\\boldsymbol{\\Sigma}^2+\\lambda \\mathbf{I}\\right) \\mathbf{V}^T\\right) \\mathbf{x}=\\mathbf{A}^T \\mathbf{y}\n",
    "$$\n",
    "$$\n",
    "\\begin{aligned}\n",
    "\\left(\\mathbf{V}\\left(\\boldsymbol{\\Sigma}^2+\\lambda \\mathbf{I}\\right) \\mathbf{V}^T\\right) \\mathbf{x}=\\mathbf{A}^T \\mathbf{y} & \\Leftrightarrow\\left(\\mathbf{V}\\left(\\boldsymbol{\\Sigma}^2+\\lambda \\mathbf{I}\\right) \\mathbf{V}^T\\right) \\mathbf{x}=\\mathbf{V} \\boldsymbol{\\Sigma} \\mathbf{U}^T \\mathbf{y} \\\\\n",
    "& \\Leftrightarrow \\mathbf{x}=\\mathbf{V}\\left(\\boldsymbol{\\Sigma}^2+\\lambda \\mathbf{I}\\right)^{-1} \\boldsymbol{\\Sigma} \\mathbf{U}^T \\mathbf{y},\n",
    "\\end{aligned}\n",
    "$$\n",
    "Note that:\n",
    "$$\n",
    "\\left(\\boldsymbol{\\Sigma}^2+\\lambda \\mathbf{I}\\right)^{-1} \\boldsymbol{\\Sigma}=\\operatorname{diag}\\left(\\frac{\\sigma_1}{\\sigma_1^2+\\lambda}, \\ldots, \\frac{\\sigma_n}{\\sigma_n^2+\\lambda}\\right)\n",
    "$$"
   ]
  },
  {
   "cell_type": "code",
   "execution_count": 2,
   "metadata": {},
   "outputs": [],
   "source": [
    "# Creation of random matrix A(500by2000) whose entries are drawn iid from N(0,1/500)\n",
    "var_A = 1/500\n",
    "mean_A = 0\n",
    "A = np.sqrt(var_A)*np.random.randn(500,2000) + mean_A\n",
    "U,S,Vh= np.linalg.svd(A, full_matrices=False)\n",
    "diagS = np.diag(S)"
   ]
  },
  {
   "cell_type": "code",
   "execution_count": 3,
   "metadata": {},
   "outputs": [],
   "source": [
    "# Creation of 50-sparse vector x drawn from\n",
    "var_x = 1/50\n",
    "mean_x = 0\n",
    "x = np.sqrt(var_x)*np.random.randn(2000) + mean_x\n",
    "zero_indices = np.random.choice(np.arange(2000),replace=False,size=int(1950)) #1950 random indices\n",
    "x[zero_indices]=0 #x is 50-sparse\n",
    "x=np.reshape(x,(2000,1))"
   ]
  },
  {
   "cell_type": "code",
   "execution_count": 4,
   "metadata": {},
   "outputs": [],
   "source": [
    "# random noise vector\n",
    "var_e = 0.5/500\n",
    "mean_e = 0\n",
    "e = np.sqrt(var_e)*np.random.randn(500,1)+mean_e"
   ]
  },
  {
   "cell_type": "code",
   "execution_count": 5,
   "metadata": {},
   "outputs": [],
   "source": [
    "lamda_max = 5\n",
    "lamda_list = np.linspace(0,lamda_max,num=200)\n",
    "y = A@x +e"
   ]
  },
  {
   "cell_type": "code",
   "execution_count": 6,
   "metadata": {},
   "outputs": [
    {
     "name": "stderr",
     "output_type": "stream",
     "text": [
      " 35%|███▌      | 70/200 [00:00<00:00, 320.41it/s]"
     ]
    },
    {
     "name": "stderr",
     "output_type": "stream",
     "text": [
      "100%|██████████| 200/200 [00:00<00:00, 372.44it/s]\n"
     ]
    }
   ],
   "source": [
    "mse_list = []\n",
    "for lamda in tqdm(lamda_list):\n",
    "    sigma_fac = np.diag([S[num]/(S[num]**2+lamda) for num in range(len(S))])\n",
    "    x2_opt = (Vh.T@(sigma_fac@(U.T@y))) #multiplying vectors with matrices are faster than multiplying matrices\n",
    "    mse_list.append(np.linalg.norm(x2_opt-x)**2)\n"
   ]
  },
  {
   "cell_type": "code",
   "execution_count": 7,
   "metadata": {},
   "outputs": [
    {
     "data": {
      "text/plain": [
       "[<matplotlib.lines.Line2D at 0x176ea18a8d0>]"
      ]
     },
     "execution_count": 7,
     "metadata": {},
     "output_type": "execute_result"
    },
    {
     "data": {
      "image/png": "[encoded data removed]",
      "text/plain": [
       "<Figure size 640x480 with 1 Axes>"
      ]
     },
     "metadata": {},
     "output_type": "display_data"
    }
   ],
   "source": [
    "plt.xlabel('lamda')\n",
    "plt.ylabel('MSE')\n",
    "plt.plot(lamda_list,mse_list,marker=\"o\")"
   ]
  },
  {
   "cell_type": "markdown",
   "metadata": {},
   "source": [
    "### Part (C), investigation of reconstruction error with l1-norm, here we don't have a closed-form expression because the l1-norm is not a differentiable around zero and therefore we cannot find a closed form solution to the problem. Therefore, we need to use ISTA algorithm to approximate the estimate."
   ]
  },
  {
   "cell_type": "code",
   "execution_count": 8,
   "metadata": {},
   "outputs": [
    {
     "name": "stderr",
     "output_type": "stream",
     "text": [
      "100%|██████████| 100/100 [00:00<00:00, 534.76it/s]\n",
      "100%|██████████| 100/100 [00:00<00:00, 430.03it/s]\n",
      "100%|██████████| 100/100 [00:00<00:00, 399.17it/s]\n",
      "100%|██████████| 100/100 [00:00<00:00, 494.32it/s]\n",
      "100%|██████████| 100/100 [00:00<00:00, 819.68it/s]\n",
      "100%|██████████| 100/100 [00:00<00:00, 916.93it/s]\n",
      "100%|██████████| 100/100 [00:00<00:00, 877.18it/s]\n",
      "100%|██████████| 100/100 [00:00<00:00, 1041.64it/s]\n",
      "100%|██████████| 100/100 [00:00<00:00, 799.39it/s]\n",
      "100%|██████████| 100/100 [00:00<00:00, 877.16it/s]\n",
      "100%|██████████| 100/100 [00:00<00:00, 826.46it/s]\n",
      "100%|██████████| 100/100 [00:00<00:00, 1122.92it/s]\n",
      "100%|██████████| 100/100 [00:00<00:00, 938.73it/s]\n",
      "100%|██████████| 100/100 [00:00<00:00, 1075.26it/s]\n",
      "100%|██████████| 100/100 [00:00<00:00, 735.29it/s]\n",
      "100%|██████████| 100/100 [00:00<00:00, 645.16it/s]\n",
      "100%|██████████| 100/100 [00:00<00:00, 512.82it/s]\n",
      "100%|██████████| 100/100 [00:00<00:00, 534.75it/s]\n",
      "100%|██████████| 100/100 [00:00<00:00, 833.31it/s]\n",
      "100%|██████████| 100/100 [00:00<00:00, 781.17it/s]\n",
      "100%|██████████| 100/100 [00:00<00:00, 813.00it/s]\n",
      "100%|██████████| 100/100 [00:00<00:00, 917.44it/s]\n",
      "100%|██████████| 100/100 [00:00<00:00, 943.39it/s]\n",
      "100%|██████████| 100/100 [00:00<00:00, 925.87it/s]\n",
      "100%|██████████| 100/100 [00:00<00:00, 1020.04it/s]\n",
      "100%|██████████| 100/100 [00:00<00:00, 1020.37it/s]\n",
      "100%|██████████| 100/100 [00:00<00:00, 1176.43it/s]\n",
      "100%|██████████| 100/100 [00:00<00:00, 578.03it/s]\n",
      "100%|██████████| 100/100 [00:00<00:00, 740.73it/s]\n",
      "100%|██████████| 100/100 [00:00<00:00, 763.38it/s]\n",
      "100%|██████████| 100/100 [00:00<00:00, 1092.45it/s]\n",
      "100%|██████████| 100/100 [00:00<00:00, 877.19it/s]\n",
      "100%|██████████| 100/100 [00:00<00:00, 1136.37it/s]\n",
      "100%|██████████| 100/100 [00:00<00:00, 1086.97it/s]\n",
      "100%|██████████| 100/100 [00:00<00:00, 1052.64it/s]\n",
      "100%|██████████| 100/100 [00:00<00:00, 1136.35it/s]\n",
      "100%|██████████| 100/100 [00:00<00:00, 1030.94it/s]\n",
      "100%|██████████| 100/100 [00:00<00:00, 1000.01it/s]\n",
      "100%|██████████| 100/100 [00:00<00:00, 854.67it/s]\n",
      "100%|██████████| 100/100 [00:00<00:00, 684.92it/s]\n",
      "100%|██████████| 100/100 [00:00<00:00, 793.62it/s]\n",
      "100%|██████████| 100/100 [00:00<00:00, 1030.88it/s]\n",
      "100%|██████████| 100/100 [00:00<00:00, 884.96it/s]\n",
      "100%|██████████| 100/100 [00:00<00:00, 892.85it/s]\n",
      "100%|██████████| 100/100 [00:00<00:00, 934.60it/s]\n",
      "100%|██████████| 100/100 [00:00<00:00, 1020.42it/s]\n",
      "100%|██████████| 100/100 [00:00<00:00, 1010.06it/s]\n",
      "100%|██████████| 100/100 [00:00<00:00, 1041.65it/s]\n",
      "100%|██████████| 100/100 [00:00<00:00, 943.39it/s]\n",
      "100%|██████████| 100/100 [00:00<00:00, 1052.63it/s]\n",
      "100%|██████████| 100/100 [00:00<00:00, 1123.58it/s]\n",
      "100%|██████████| 100/100 [00:00<00:00, 1086.95it/s]\n",
      "100%|██████████| 100/100 [00:00<00:00, 819.64it/s]\n",
      "100%|██████████| 100/100 [00:00<00:00, 847.45it/s]\n",
      "100%|██████████| 100/100 [00:00<00:00, 806.43it/s]\n",
      "100%|██████████| 100/100 [00:00<00:00, 1010.14it/s]\n",
      "100%|██████████| 100/100 [00:00<00:00, 1020.42it/s]\n",
      "100%|██████████| 100/100 [00:00<00:00, 624.99it/s]\n",
      "100%|██████████| 100/100 [00:00<00:00, 1052.60it/s]\n",
      "100%|██████████| 100/100 [00:00<00:00, 961.58it/s]\n",
      "100%|██████████| 100/100 [00:00<00:00, 1052.62it/s]\n",
      "100%|██████████| 100/100 [00:00<00:00, 934.57it/s]\n",
      "100%|██████████| 100/100 [00:00<00:00, 840.37it/s]\n",
      "100%|██████████| 100/100 [00:00<00:00, 884.97it/s]\n",
      "100%|██████████| 100/100 [00:00<00:00, 925.93it/s]\n",
      "100%|██████████| 100/100 [00:00<00:00, 1010.04it/s]\n",
      "100%|██████████| 100/100 [00:00<00:00, 769.23it/s]\n",
      "100%|██████████| 100/100 [00:00<00:00, 617.28it/s]\n",
      "100%|██████████| 100/100 [00:00<00:00, 925.92it/s]\n",
      "100%|██████████| 100/100 [00:00<00:00, 1010.12it/s]\n",
      "100%|██████████| 100/100 [00:00<00:00, 1111.11it/s]\n",
      "100%|██████████| 100/100 [00:00<00:00, 1136.34it/s]\n",
      "100%|██████████| 100/100 [00:00<00:00, 591.71it/s]\n",
      "100%|██████████| 100/100 [00:00<00:00, 1075.14it/s]\n",
      "100%|██████████| 100/100 [00:00<00:00, 694.44it/s]\n",
      "100%|██████████| 100/100 [00:00<00:00, 1030.90it/s]\n",
      "100%|██████████| 100/100 [00:00<00:00, 917.43it/s]\n",
      "100%|██████████| 100/100 [00:00<00:00, 529.09it/s]\n",
      "100%|██████████| 100/100 [00:00<00:00, 621.12it/s]\n",
      "100%|██████████| 100/100 [00:00<00:00, 709.24it/s]\n",
      "100%|██████████| 100/100 [00:00<00:00, 1052.64it/s]\n",
      "100%|██████████| 100/100 [00:00<00:00, 840.33it/s]\n",
      "100%|██████████| 100/100 [00:00<00:00, 934.60it/s]\n",
      "100%|██████████| 100/100 [00:00<00:00, 917.43it/s]\n",
      "100%|██████████| 100/100 [00:00<00:00, 854.66it/s]\n",
      "100%|██████████| 100/100 [00:00<00:00, 854.69it/s]\n",
      "100%|██████████| 100/100 [00:00<00:00, 909.10it/s]\n",
      "100%|██████████| 100/100 [00:00<00:00, 787.40it/s]\n",
      "100%|██████████| 100/100 [00:00<00:00, 389.09it/s]\n",
      "100%|██████████| 100/100 [00:00<00:00, 400.01it/s]\n",
      "100%|██████████| 100/100 [00:00<00:00, 497.51it/s]\n",
      "100%|██████████| 100/100 [00:00<00:00, 423.73it/s]\n",
      "100%|██████████| 100/100 [00:00<00:00, 724.64it/s]\n",
      "100%|██████████| 100/100 [00:00<00:00, 680.26it/s]\n",
      "100%|██████████| 100/100 [00:00<00:00, 769.24it/s]\n",
      "100%|██████████| 100/100 [00:00<00:00, 714.28it/s]\n",
      "100%|██████████| 100/100 [00:00<00:00, 775.19it/s]\n",
      "100%|██████████| 100/100 [00:00<00:00, 751.88it/s]\n",
      "100%|██████████| 100/100 [00:00<00:00, 909.11it/s]\n",
      "100%|██████████| 100/100 [00:00<00:00, 934.54it/s]\n",
      "100%|██████████| 100/100 [00:00<00:00, 892.85it/s]\n",
      "100%|██████████| 100/100 [00:00<00:00, 588.24it/s]\n",
      "100%|██████████| 100/100 [00:00<00:00, 757.59it/s]\n",
      "100%|██████████| 100/100 [00:00<00:00, 934.60it/s]\n",
      "100%|██████████| 100/100 [00:00<00:00, 1052.61it/s]\n",
      "100%|██████████| 100/100 [00:00<00:00, 1098.89it/s]\n",
      "100%|██████████| 100/100 [00:00<00:00, 1149.43it/s]\n",
      "100%|██████████| 100/100 [00:00<00:00, 1075.28it/s]\n",
      "100%|██████████| 100/100 [00:00<00:00, 1086.96it/s]\n",
      "100%|██████████| 100/100 [00:00<00:00, 1123.59it/s]\n",
      "100%|██████████| 100/100 [00:00<00:00, 1111.11it/s]\n",
      "100%|██████████| 100/100 [00:00<00:00, 1111.11it/s]\n",
      "100%|██████████| 100/100 [00:00<00:00, 709.21it/s]\n",
      "100%|██████████| 100/100 [00:00<00:00, 1136.38it/s]\n",
      "100%|██████████| 100/100 [00:00<00:00, 740.72it/s]\n",
      "100%|██████████| 100/100 [00:00<00:00, 431.03it/s]\n",
      "100%|██████████| 100/100 [00:00<00:00, 1020.39it/s]\n",
      "100%|██████████| 100/100 [00:00<00:00, 636.95it/s]\n",
      "100%|██████████| 100/100 [00:00<00:00, 840.34it/s]\n",
      "100%|██████████| 100/100 [00:00<00:00, 1098.91it/s]\n",
      "100%|██████████| 100/100 [00:00<00:00, 1086.95it/s]\n",
      "100%|██████████| 100/100 [00:00<00:00, 1030.92it/s]\n",
      "100%|██████████| 100/100 [00:00<00:00, 1162.77it/s]\n",
      "100%|██████████| 100/100 [00:00<00:00, 1204.78it/s]\n",
      "100%|██████████| 100/100 [00:00<00:00, 1219.54it/s]\n",
      "100%|██████████| 100/100 [00:00<00:00, 1149.41it/s]\n",
      "100%|██████████| 100/100 [00:00<00:00, 1149.44it/s]\n",
      "100%|██████████| 100/100 [00:00<00:00, 1149.45it/s]\n",
      "100%|██████████| 100/100 [00:00<00:00, 1098.93it/s]\n",
      "100%|██████████| 100/100 [00:00<00:00, 1063.85it/s]\n",
      "100%|██████████| 100/100 [00:00<00:00, 1149.39it/s]\n",
      "100%|██████████| 100/100 [00:00<00:00, 1086.96it/s]\n",
      "100%|██████████| 100/100 [00:00<00:00, 925.91it/s]\n",
      "100%|██████████| 100/100 [00:00<00:00, 952.39it/s]\n",
      "100%|██████████| 100/100 [00:00<00:00, 877.16it/s]\n",
      "100%|██████████| 100/100 [00:00<00:00, 624.98it/s]\n",
      "100%|██████████| 100/100 [00:00<00:00, 621.12it/s]\n",
      "100%|██████████| 100/100 [00:00<00:00, 549.45it/s]\n",
      "100%|██████████| 100/100 [00:00<00:00, 467.29it/s]\n",
      "100%|██████████| 100/100 [00:00<00:00, 492.61it/s]\n",
      "100%|██████████| 100/100 [00:00<00:00, 775.16it/s]\n",
      "100%|██████████| 100/100 [00:00<00:00, 518.14it/s]\n",
      "100%|██████████| 100/100 [00:00<00:00, 645.16it/s]\n",
      "100%|██████████| 100/100 [00:00<00:00, 369.00it/s]\n",
      "100%|██████████| 100/100 [00:00<00:00, 537.64it/s]\n",
      "100%|██████████| 100/100 [00:00<00:00, 558.66it/s]\n",
      "100%|██████████| 100/100 [00:00<00:00, 588.22it/s]\n",
      "100%|██████████| 100/100 [00:00<00:00, 537.63it/s]\n",
      "100%|██████████| 100/100 [00:00<00:00, 408.16it/s]\n",
      "100%|██████████| 100/100 [00:00<00:00, 359.70it/s]\n",
      "100%|██████████| 100/100 [00:00<00:00, 531.90it/s]\n",
      "100%|██████████| 100/100 [00:00<00:00, 495.05it/s]\n",
      "100%|██████████| 100/100 [00:00<00:00, 588.24it/s]\n",
      "100%|██████████| 100/100 [00:00<00:00, 546.44it/s]\n",
      "100%|██████████| 100/100 [00:00<00:00, 574.71it/s]\n",
      "100%|██████████| 100/100 [00:00<00:00, 628.92it/s]\n",
      "100%|██████████| 100/100 [00:00<00:00, 495.04it/s]\n",
      "100%|██████████| 100/100 [00:00<00:00, 389.10it/s]\n",
      "100%|██████████| 100/100 [00:00<00:00, 645.16it/s]\n",
      "100%|██████████| 100/100 [00:00<00:00, 799.99it/s]\n",
      "100%|██████████| 100/100 [00:00<00:00, 757.57it/s]\n",
      "100%|██████████| 100/100 [00:00<00:00, 800.02it/s]\n",
      "100%|██████████| 100/100 [00:00<00:00, 806.44it/s]\n",
      "100%|██████████| 100/100 [00:00<00:00, 833.31it/s]\n",
      "100%|██████████| 100/100 [00:00<00:00, 485.43it/s]\n",
      "100%|██████████| 100/100 [00:00<00:00, 826.46it/s]\n",
      "100%|██████████| 100/100 [00:00<00:00, 684.95it/s]\n",
      "100%|██████████| 100/100 [00:00<00:00, 909.10it/s]\n",
      "100%|██████████| 100/100 [00:00<00:00, 826.46it/s]\n",
      "100%|██████████| 100/100 [00:00<00:00, 819.78it/s]\n",
      "100%|██████████| 100/100 [00:00<00:00, 793.66it/s]\n",
      "100%|██████████| 100/100 [00:00<00:00, 826.43it/s]\n",
      "100%|██████████| 100/100 [00:00<00:00, 826.44it/s]\n",
      "100%|██████████| 100/100 [00:00<00:00, 847.44it/s]\n",
      "100%|██████████| 100/100 [00:00<00:00, 869.56it/s]\n",
      "100%|██████████| 100/100 [00:00<00:00, 1098.77it/s]\n",
      "100%|██████████| 100/100 [00:00<00:00, 970.87it/s]\n",
      "100%|██████████| 100/100 [00:00<00:00, 1086.95it/s]\n",
      "100%|██████████| 100/100 [00:00<00:00, 680.25it/s]\n",
      "100%|██████████| 100/100 [00:00<00:00, 632.89it/s]\n",
      "100%|██████████| 100/100 [00:00<00:00, 746.26it/s]\n",
      "100%|██████████| 100/100 [00:00<00:00, 813.13it/s]\n",
      "100%|██████████| 100/100 [00:00<00:00, 787.40it/s]\n",
      "100%|██████████| 100/100 [00:00<00:00, 884.96it/s]\n",
      "100%|██████████| 100/100 [00:00<00:00, 671.13it/s]\n",
      "100%|██████████| 100/100 [00:00<00:00, 392.16it/s]\n",
      "100%|██████████| 100/100 [00:00<00:00, 909.07it/s]\n",
      "100%|██████████| 100/100 [00:00<00:00, 813.00it/s]\n",
      "100%|██████████| 100/100 [00:00<00:00, 1086.95it/s]\n",
      "100%|██████████| 100/100 [00:00<00:00, 925.94it/s]\n",
      "100%|██████████| 100/100 [00:00<00:00, 961.53it/s]\n",
      "100%|██████████| 100/100 [00:00<00:00, 877.19it/s]\n",
      "100%|██████████| 100/100 [00:00<00:00, 854.68it/s]\n",
      "100%|██████████| 100/100 [00:00<00:00, 724.64it/s]\n",
      "100%|██████████| 100/100 [00:00<00:00, 769.19it/s]\n",
      "100%|██████████| 100/100 [00:00<00:00, 854.72it/s]\n",
      "100%|██████████| 100/100 [00:00<00:00, 869.55it/s]\n",
      "100%|██████████| 100/100 [00:00<00:00, 877.16it/s]\n",
      "100%|██████████| 100/100 [00:00<00:00, 1020.40it/s]\n",
      "100%|██████████| 100/100 [00:00<00:00, 943.39it/s]\n",
      "100%|██████████| 200/200 [00:27<00:00,  7.28it/s]\n"
     ]
    }
   ],
   "source": [
    "mse=[]\n",
    "max_iterations=100\n",
    "alpha=0.0001 #step size\n",
    "\n",
    "#derivative of function f\n",
    "def delta_f(x):\n",
    "    return A.T@(A@x-y)\n",
    "\n",
    "#Soft Thresholding Operator\n",
    "def STO(x,lamda,alpha):\n",
    "    c=lamda*alpha\n",
    "    x[(x>=-c)&(x<=c)]=0\n",
    "    x[x<-c]+=c\n",
    "    x[x>c]-=c\n",
    "    return x\n",
    "\n",
    "for lamda in tqdm(lamda_list):\n",
    "    x_k=np.zeros((2000,1)) #initialize x: x_0=0\n",
    "    #ISTA\n",
    "    for _ in tqdm(range(max_iterations)):\n",
    "        x_k-=alpha*delta_f(x_k) #step update for f(x)\n",
    "        x_k=STO(x_k,lamda,alpha) #soft thresholding\n",
    "    mse.append(np.linalg.norm(x_k-x)**2)"
   ]
  },
  {
   "cell_type": "code",
   "execution_count": 9,
   "metadata": {},
   "outputs": [
    {
     "data": {
      "text/plain": [
       "[<matplotlib.lines.Line2D at 0x176ea431e90>]"
      ]
     },
     "execution_count": 9,
     "metadata": {},
     "output_type": "execute_result"
    },
    {
     "data": {
      "image/png": "[encoded data removed]",
      "text/plain": [
       "<Figure size 640x480 with 1 Axes>"
      ]
     },
     "metadata": {},
     "output_type": "display_data"
    }
   ],
   "source": [
    "plt.xlabel('lamda')\n",
    "plt.ylabel('MSE')\n",
    "plt.plot(lamda_list,mse,marker=\"o\")"
   ]
  }
 ],
 "metadata": {
  "kernelspec": {
   "display_name": "DLIS_venv",
   "language": "python",
   "name": "python3"
  },
  "language_info": {
   "codemirror_mode": {
    "name": "ipython",
    "version": 3
   },
   "file_extension": ".py",
   "mimetype": "text/x-python",
   "name": "python",
   "nbconvert_exporter": "python",
   "pygments_lexer": "ipython3",
   "version": "3.11.3"
  },
  "orig_nbformat": 4
 },
 "nbformat": 4,
 "nbformat_minor": 2
}
