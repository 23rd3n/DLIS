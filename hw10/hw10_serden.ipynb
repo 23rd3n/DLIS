{
 "cells": [
  {
   "cell_type": "code",
   "execution_count": 1,
   "metadata": {},
   "outputs": [],
   "source": [
    "import numpy as np\n",
    "import matplotlib.pyplot as plt\n",
    "from tqdm import tqdm"
   ]
  },
  {
   "cell_type": "markdown",
   "metadata": {},
   "source": [
    "### Part (b), investigation of reconstruction error with analytically obtained l2-norm minimizer, and we know the optimal solution from the solution of homework3"
   ]
  },
  {
   "cell_type": "markdown",
   "metadata": {},
   "source": [
    "$$\n",
    "f(\\mathbf{x})=\\|\\mathbf{A} \\mathbf{x}-\\mathbf{y}\\|_2^2+\\lambda\\|\\mathbf{x}\\|_2^2,\n",
    "$$\n",
    "$$\n",
    "\\nabla f(\\mathbf{x})=2\\left(\\mathbf{A}^T(\\mathbf{A x}-\\mathbf{y})+\\lambda \\mathbf{x}\\right)\n",
    "$$\n",
    "$$\n",
    "\\nabla f(\\mathbf{x})=\\mathbf{0} \\Leftrightarrow\\left(\\mathbf{A}^T \\mathbf{A}+\\lambda \\mathbf{I}\\right) \\mathbf{x}=\\mathbf{A}^T \\mathbf{y} .\n",
    "$$\n",
    "$$\n",
    "\\begin{aligned}\n",
    "\\left(\\mathbf{A}^T \\mathbf{A}-\\lambda \\mathbf{I}\\right) & =\\mathbf{V} \\boldsymbol{\\Sigma}^2 \\mathbf{V}^T+\\lambda \\mathbf{I}, \\\\\n",
    "& \\stackrel{*}{=} \\mathbf{V} \\boldsymbol{\\Sigma}^2 \\mathbf{V}^T+\\lambda \\mathbf{V} \\mathbf{V}^T, \\\\\n",
    "& =\\mathbf{V}\\left(\\boldsymbol{\\Sigma}^2+\\lambda \\mathbf{I}\\right) \\mathbf{V}^T,\n",
    "\\end{aligned}\n",
    "$$\n",
    "$$\n",
    "\\nabla f(\\mathbf{x})=\\mathbf{0} \\Leftrightarrow\\left(\\mathbf{V}\\left(\\boldsymbol{\\Sigma}^2+\\lambda \\mathbf{I}\\right) \\mathbf{V}^T\\right) \\mathbf{x}=\\mathbf{A}^T \\mathbf{y}\n",
    "$$\n",
    "$$\n",
    "\\begin{aligned}\n",
    "\\left(\\mathbf{V}\\left(\\boldsymbol{\\Sigma}^2+\\lambda \\mathbf{I}\\right) \\mathbf{V}^T\\right) \\mathbf{x}=\\mathbf{A}^T \\mathbf{y} & \\Leftrightarrow\\left(\\mathbf{V}\\left(\\boldsymbol{\\Sigma}^2+\\lambda \\mathbf{I}\\right) \\mathbf{V}^T\\right) \\mathbf{x}=\\mathbf{V} \\boldsymbol{\\Sigma} \\mathbf{U}^T \\mathbf{y} \\\\\n",
    "& \\Leftrightarrow \\mathbf{x}=\\mathbf{V}\\left(\\boldsymbol{\\Sigma}^2+\\lambda \\mathbf{I}\\right)^{-1} \\boldsymbol{\\Sigma} \\mathbf{U}^T \\mathbf{y},\n",
    "\\end{aligned}\n",
    "$$\n",
    "Note that:\n",
    "$$\n",
    "\\left(\\boldsymbol{\\Sigma}^2+\\lambda \\mathbf{I}\\right)^{-1} \\boldsymbol{\\Sigma}=\\operatorname{diag}\\left(\\frac{\\sigma_1}{\\sigma_1^2+\\lambda}, \\ldots, \\frac{\\sigma_n}{\\sigma_n^2+\\lambda}\\right)\n",
    "$$"
   ]
  },
  {
   "cell_type": "code",
   "execution_count": 2,
   "metadata": {},
   "outputs": [],
   "source": [
    "# Creation of random matrix A(500by2000) whose entries are drawn iid from N(0,1/500)\n",
    "var_A = 1/500\n",
    "mean_A = 0\n",
    "A = np.sqrt(var_A)*np.random.randn(500,2000) + mean_A\n",
    "U,S,Vh= np.linalg.svd(A, full_matrices=False)\n",
    "diagS = np.diag(S)"
   ]
  },
  {
   "cell_type": "code",
   "execution_count": 3,
   "metadata": {},
   "outputs": [],
   "source": [
    "# Creation of 50-sparse vector x drawn from\n",
    "var_x = 1/50\n",
    "mean_x = 0\n",
    "x = np.sqrt(var_x)*np.random.randn(2000) + mean_x\n",
    "zero_indices = np.random.choice(np.arange(2000),replace=False,size=int(1950)) #1950 random indices\n",
    "x[zero_indices]=0 #x is 50-sparse\n",
    "x=np.reshape(x,(2000,1))"
   ]
  },
  {
   "cell_type": "code",
   "execution_count": 4,
   "metadata": {},
   "outputs": [],
   "source": [
    "# random noise vector\n",
    "var_e = 0.5/500\n",
    "mean_e = 0\n",
    "e = np.sqrt(var_e)*np.random.randn(500,1)+mean_e"
   ]
  },
  {
   "cell_type": "code",
   "execution_count": 5,
   "metadata": {},
   "outputs": [],
   "source": [
    "lamda_max = 5\n",
    "lamda_list = np.linspace(0,lamda_max,num=200)\n",
    "y = A@x +e"
   ]
  },
  {
   "cell_type": "code",
   "execution_count": 6,
   "metadata": {},
   "outputs": [
    {
     "name": "stderr",
     "output_type": "stream",
     "text": [
      "100%|██████████| 200/200 [00:00<00:00, 366.79it/s]\n"
     ]
    }
   ],
   "source": [
    "mse_list = []\n",
    "for lamda in tqdm(lamda_list):\n",
    "    sigma_fac = np.diag([S[num]/(S[num]+lamda) for num in range(len(S))])\n",
    "    x2_opt = (Vh.T@(sigma_fac@(Vh@(Vh.T@(diagS@(U.T@y)))))) #multiplying vectors with matrices are faster than multiplying matrices\n",
    "    mse_list.append(np.linalg.norm(x2_opt-x)**2)\n"
   ]
  },
  {
   "cell_type": "code",
   "execution_count": 7,
   "metadata": {},
   "outputs": [
    {
     "data": {
      "text/plain": [
       "[<matplotlib.lines.Line2D at 0x210b5081bd0>]"
      ]
     },
     "execution_count": 7,
     "metadata": {},
     "output_type": "execute_result"
    },
    {
     "data": {
      "image/png": "[encoded data removed]",
      "text/plain": [
       "<Figure size 640x480 with 1 Axes>"
      ]
     },
     "metadata": {},
     "output_type": "display_data"
    }
   ],
   "source": [
    "plt.xlabel('lamda')\n",
    "plt.ylabel('MSE')\n",
    "plt.plot(lamda_list,mse_list,marker=\"o\")"
   ]
  },
  {
   "cell_type": "markdown",
   "metadata": {},
   "source": [
    "### Part (C), investigation of reconstruction error with l1-norm, here we don't have a closed-form expression because the l1-norm minimization is not a convex problem. Therefore, we need to use ISTA algorithm to approximate the estimate."
   ]
  },
  {
   "cell_type": "code",
   "execution_count": 8,
   "metadata": {},
   "outputs": [
    {
     "name": "stderr",
     "output_type": "stream",
     "text": [
      "100%|██████████| 200/200 [00:16<00:00, 12.36it/s]\n"
     ]
    }
   ],
   "source": [
    "temp_mse=[]\n",
    "max_iterations=100\n",
    "alpha=0.0001 #step size\n",
    "\n",
    "#derivative of function f\n",
    "def delta_f(x):\n",
    "    return A.T@(A@x-y)\n",
    "\n",
    "#Soft Thresholding Operator\n",
    "def STO(x,lamda,alpha):\n",
    "    c=lamda*alpha\n",
    "    x[(x>=-c)&(x<=c)]=0\n",
    "    x[x<-c]+=c\n",
    "    x[x>c]-=c\n",
    "    return x\n",
    "\n",
    "for lamda in tqdm(lamda_list):\n",
    "    x_k=np.zeros((2000,1)) #initialize x: x_0=0\n",
    "    #ISTA\n",
    "    for _ in range(max_iterations):\n",
    "        x_k-=alpha*delta_f(x_k) #step update for f(x)\n",
    "        x_k=STO(x_k,lamda,alpha) #soft thresholding\n",
    "    x1_opt = x_k\n",
    "    temp_mse.append(np.linalg.norm(x1_opt-x)**2)"
   ]
  },
  {
   "cell_type": "code",
   "execution_count": 9,
   "metadata": {},
   "outputs": [
    {
     "data": {
      "text/plain": [
       "[<matplotlib.lines.Line2D at 0x210b512cf90>]"
      ]
     },
     "execution_count": 9,
     "metadata": {},
     "output_type": "execute_result"
    },
    {
     "data": {
      "image/png": "[encoded data removed]",
      "text/plain": [
       "<Figure size 640x480 with 1 Axes>"
      ]
     },
     "metadata": {},
     "output_type": "display_data"
    }
   ],
   "source": [
    "plt.xlabel('lamda')\n",
    "plt.ylabel('MSE')\n",
    "plt.plot(lamda_list,temp_mse,marker=\"o\")"
   ]
  }
 ],
 "metadata": {
  "kernelspec": {
   "display_name": "DLIS_venv",
   "language": "python",
   "name": "python3"
  },
  "language_info": {
   "codemirror_mode": {
    "name": "ipython",
    "version": 3
   },
   "file_extension": ".py",
   "mimetype": "text/x-python",
   "name": "python",
   "nbconvert_exporter": "python",
   "pygments_lexer": "ipython3",
   "version": "3.11.3"
  },
  "orig_nbformat": 4
 },
 "nbformat": 4,
 "nbformat_minor": 2
}
